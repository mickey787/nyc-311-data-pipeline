{
 "cells": [
  {
   "cell_type": "markdown",
   "id": "4056636e",
   "metadata": {},
   "source": [
    "<small> We import the `os` module to handle file system operations like creating directories and managing file paths. We also import `pandas`, the core Python library for data manipulation and analysis, which enables us to read, write, and transform tabular data efficiently. </small>"
   ]
  },
  {
   "cell_type": "code",
   "execution_count": 6,
   "id": "59a73af1",
   "metadata": {},
   "outputs": [],
   "source": [
    "#os: Used to create directories and manage file paths\n",
    "import os\n",
    "#pandas: the backbone of all data manipulation in python (reading, writing, transforming tables)\n",
    "import pandas as pd"
   ]
  },
  {
   "cell_type": "markdown",
   "id": "431450ac",
   "metadata": {},
   "source": [
    "<small> This line ensures that the directory `\"data/raw\"` exists before saving any files there. The parameter `exist_ok=True` prevents an error if the folder already exists, making the operation safe to run multiple times without interruption. </small>"
   ]
  },
  {
   "cell_type": "code",
   "execution_count": 7,
   "id": "15803cc1",
   "metadata": {},
   "outputs": [],
   "source": [
    "#Ensures the folder exist before you try to save files there. \n",
    "#exist_ok=True prevents errors if folder already exist\n",
    "os.makedirs(\"data/raw\", exist_ok=True)"
   ]
  },
  {
   "cell_type": "markdown",
   "id": "53d81c19",
   "metadata": {},
   "source": [
    "<small> In this step, we load two key datasets directly from online sources:\n",
    "The ZIP code–level population data is loaded from a public NYC dataset URL. We explicitly set the ZCTA column as a string to ensure proper merging later on.\n",
    "\n",
    "The NYC 311 complaints data is also loaded from an online source, limiting the data to 1,000 records for initial analysis. The incident_zip column is read as a string to maintain consistent ZIP code formatting.\n",
    "\n",
    "These datasets form the foundation for our analysis, linking complaint records to population data by ZIP code.\n",
    "</small>"
   ]
  },
  {
   "cell_type": "code",
   "execution_count": null,
   "id": "07711260",
   "metadata": {},
   "outputs": [],
   "source": [
    "# === Step 1: Load Population and Complaints Data ===\n",
    "# Load ZIP Code-level population data (ensure 'ZCTA' column is read as string for merging later)\n",
    "data_url1 = \"https://data.cityofnewyork.us/api/views/pri4-ifjk/rows.csv?accessType=DOWNLOAD\"\n",
    "pop_df = pd.read_csv(data_url1, dtype={\"ZCTA\": str})\n",
    "\n",
    "# Load NYC 311 complaints data (zip_code as string to match formatting)\n",
    "data_url2 = \"https://data.cityofnewyork.us/resource/erm2-nwe9.csv?$limit=1000\"\n",
    "complaints_df = pd.read_csv(data_url2, dtype={\"incident_zip\": str})\n"
   ]
  },
  {
   "cell_type": "markdown",
   "id": "7439c50e",
   "metadata": {},
   "source": [
    "<small> After loading the datasets, we save each one locally as CSV files for future use. We define separate file paths for the complaints data and the population data within the `\"data/raw\"` directory. Using `.to_csv()`, we export each DataFrame without the index column to keep the files clean. Printing the file paths confirms successful saving and provides easy reference for subsequent processing steps. </small>"
   ]
  },
  {
   "cell_type": "code",
   "execution_count": 11,
   "id": "39b9aa6d",
   "metadata": {},
   "outputs": [
    {
     "name": "stdout",
     "output_type": "stream",
     "text": [
      "Saved complaints to: data/raw/nyc_311_raw.csv\n",
      "Saved population data to: data/raw/nyc_zcta_population.csv\n"
     ]
    }
   ],
   "source": [
    "# Define separate paths\n",
    "complaints_path = \"data/raw/nyc_311_raw.csv\"\n",
    "pop_path = \"data/raw/nyc_zcta_population.csv\"\n",
    "\n",
    "# Save each dataset to its own file\n",
    "complaints_df.to_csv(complaints_path, index=False)\n",
    "pop_df.to_csv(pop_path, index=False)\n",
    "\n",
    "print(f\"Saved complaints to: {complaints_path}\")\n",
    "print(f\"Saved population data to: {pop_path}\")"
   ]
  }
 ],
 "metadata": {
  "kernelspec": {
   "display_name": "Python 3.11",
   "language": "python",
   "name": "py311"
  },
  "language_info": {
   "codemirror_mode": {
    "name": "ipython",
    "version": 3
   },
   "file_extension": ".py",
   "mimetype": "text/x-python",
   "name": "python",
   "nbconvert_exporter": "python",
   "pygments_lexer": "ipython3",
   "version": "3.13.3"
  }
 },
 "nbformat": 4,
 "nbformat_minor": 5
}
